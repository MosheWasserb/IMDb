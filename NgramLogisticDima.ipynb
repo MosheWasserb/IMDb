{
  "nbformat": 4,
  "nbformat_minor": 0,
  "metadata": {
    "kernelspec": {
      "display_name": "Python 3",
      "language": "python",
      "name": "python3"
    },
    "language_info": {
      "codemirror_mode": {
        "name": "ipython",
        "version": 3
      },
      "file_extension": ".py",
      "mimetype": "text/x-python",
      "name": "python",
      "nbconvert_exporter": "python",
      "pygments_lexer": "ipython3",
      "version": "3.7.0"
    },
    "colab": {
      "name": "NgramLogisticDima.ipynb",
      "provenance": [],
      "include_colab_link": true
    }
  },
  "cells": [
    {
      "cell_type": "markdown",
      "metadata": {
        "id": "view-in-github",
        "colab_type": "text"
      },
      "source": [
        "<a href=\"https://colab.research.google.com/github/MosheWasserb/IMDb/blob/master/NgramLogisticDima.ipynb\" target=\"_parent\"><img src=\"https://colab.research.google.com/assets/colab-badge.svg\" alt=\"Open In Colab\"/></a>"
      ]
    },
    {
      "cell_type": "markdown",
      "metadata": {
        "colab_type": "text",
        "id": "s_rfniJMX-s1"
      },
      "source": [
        "### Dataset definition (for CSV file)"
      ]
    },
    {
      "cell_type": "markdown",
      "metadata": {
        "id": "AW_XPBtJfau3",
        "colab_type": "text"
      },
      "source": [
        "# PyTorch Regression example \n",
        "\n",
        "### Moshe Wasserblat <br><br>March 2020"
      ]
    },
    {
      "cell_type": "markdown",
      "metadata": {
        "id": "oUxKvB96favB",
        "colab_type": "text"
      },
      "source": [
        "### Import "
      ]
    },
    {
      "cell_type": "code",
      "metadata": {
        "id": "ytNZMY1Tfau6",
        "colab_type": "code",
        "outputId": "a1fe7563-52bf-4228-a682-1b8f0f681351",
        "colab": {
          "base_uri": "https://localhost:8080/",
          "height": 88
        }
      },
      "source": [
        "\n",
        "import torch\n",
        "from torchtext import data\n",
        "\n",
        "SEED = 1234\n",
        "\n",
        "torch.manual_seed(SEED)\n",
        "torch.backends.cudnn.deterministic = True\n",
        "\n",
        "TEXT = data.Field(tokenize = 'spacy')\n",
        "LABEL = data.LabelField(dtype = torch.float)\n",
        "\n",
        "from torchtext import datasets\n",
        "\n",
        "train_data, test_data = datasets.IMDB.splits(TEXT, LABEL)\n",
        "\n",
        "\n",
        "print(f'Number of training examples: {len(train_data)}')\n",
        "print(f'Number of testing examples: {len(test_data)}')\n",
        "\n",
        "print(vars(train_data.examples[0]))"
      ],
      "execution_count": 0,
      "outputs": [
        {
          "output_type": "stream",
          "text": [
            "Number of training examples: 25000\n",
            "Number of testing examples: 25000\n",
            "{'text': ['This', 'movie', 'has', 'been', 'poorly', 'received', 'and', 'badly', 'reviewed', '.', 'The', 'book', 'by', 'Rebecca', 'West', 'was', 'written', 'in', '1918', ',', 'soon', 'after', 'WWI', ',', 'when', 'shell', 'shock', 'and', 'trauma', '-', 'induced', 'amnesia', 'were', 'not', 'clichés', ',', 'as', 'the', 'reviewers', 'call', 'it', 'many', 'books', 'and', 'movies', 'later', '.', 'It', 'is', 'difficult', 'to', 'go', 'back', 'in', 'time', 'and', 'live', ',', 'as', 'the', 'characters', 'lived', ',', 'the', 'realities', 'of', 'the', 'time', ':', 'the', 'war', 'and', 'the', 'horror', 'of', 'the', 'experience', 'of', 'the', 'first', 'war', 'to', 'use', 'lethal', 'gas', ',', 'the', 'British', 'class', 'system', 'the', 'wife', 'thought', 'all', '-', 'important', ',', 'the', 'hopeless', 'spinster', ',', 'and', 'the', 'lover', 'from', 'the', 'past', 'still', 'seen', 'with', 'the', 'eyes', 'of', 'love', 'being', 'as', 'young', 'and', 'as', 'beautiful', 'as', 'she', 'was', '20', 'years', 'ago.<br', '/><br', '/>Alan', 'Bates', 'as', 'the', 'amnesiac', 'soldier', 'who', '\"', 'will', 'die', '\"', 'if', 'he', 'is', \"n't\", 'allowed', 'to', 'see', 'Margaret', ',', 'the', 'girl', 'of', 'his', 'youthful', 'dreams', ',', 'builds', 'on', 'the', 'devotion', 'his', 'character', 'showed', 'in', '\"', 'Far', 'From', 'the', 'Madding', 'Crowd', '\"', '.', 'Having', 'seen', 'that', 'performance', ',', 'it', 'is', 'possible', 'to', 'sense', 'his', 'strong', 'romantic', 'attachment', 'to', 'the', 'girl', 'who', 'did', \"n't\", 'live', 'up', 'to', 'the', 'family', \"'s\", 'and', 'society', \"'s\", 'expectations', '.', 'Margaret', 'says', ',', '\"', 'We', 'quarreled', ',', 'and', 'as', 'you', 'rowed', 'away', ',', 'you', 'turned', 'your', 'face', 'away', 'from', 'me', '.', '\"', 'So', 'we', 'know', 'that', 'the', 'breakup', 'was', 'something', 'that', 'he', 'instigated', ',', 'that', 'it', 'brought', 'him', 'shame', ',', 'but', 'that', 'he', 'forgot', 'the', 'shame', 'in', 'his', 'memory', 'of', 'his', 'time', 'with', 'Margaret', '.', 'I', 'have', \"n't\", 'seen', 'all', 'his', 'films', ',', 'but', 'in', 'the', 'ones', 'I', \"'ve\", 'seen', ',', 'he', 'imparts', 'a', 'strong', 'masculinity', ',', 'which', 'shines', 'through', 'even', 'in', 'this', 'role', 'as', 'the', 'disabled', 'soldier.<br', '/><br', '/>I', 'did', \"n't\", 'even', 'recognize', 'Ann', '-', 'Margaret', 'at', 'first', 'and', 'feel', 'that', 'her', 'performance', 'has', 'been', 'underrated', '.', 'Not', 'having', 'read', 'the', 'book', ',', 'I', 'wondered', 'whether', 'the', 'child', 'who', 'died', 'was', 'the', 'result', 'of', 'acting', 'on', 'a', 'borderline', 'incestuous', 'feeling', 'between', 'Jenny', 'and', 'Chris', ',', 'though', 'Jenny', 'does', 'state', 'that', 'she', '\"', 'is', 'a', 'cousin', '\"', '.', 'The', 'way', 'Kitty', 'keeps', 'Jenny', 'in', 'the', 'nursery', 'in', 'the', 'hair', '-', 'drying', 'scene', ',', 'the', 'fact', 'that', 'Kitty', 'says', 'she', 'always', 'dries', 'her', 'hair', 'in', 'that', 'room', 'seems', 'more', 'a', 'way', 'for', 'Kitty', 'to', 'keep', 'the', 'coals', 'of', 'anger', 'hot', 'than', 'the', 'orientation', 'of', 'the', 'room', 'to', 'the', 'sun', ',', 'or', 'sentiment', 'about', 'a', 'lost', 'child', ',', 'and', 'the', 'statement', 'she', 'made', 'that', 'she', 'wished', 'Chris', 'had', \"n't\", 'felt', 'it', 'necessary', 'to', 'preserve', 'the', 'room', 'exactly', 'as', 'it', 'was', 'when', 'the', 'child', 'was', 'alive', 'made', 'her', 'seem', 'uncaring', 'toward', 'the', 'memory', 'of', 'the', 'child', '.', 'Also', ',', 'Jenny', 'is', 'shown', 'as', 'living', 'in', 'the', 'house', 'in', 'a', 'subservient', 'role', ',', 'as', 'high', 'society', 'would', 'have', 'done', 'to', 'a', 'fallen', 'member', 'at', 'the', 'time.<br', '/><br', '/>Having', 'recently', 'been', 'the', 'recipient', 'of', 'the', 'intense', 'fantasy', 'of', 'a', 'lover', '(', 'non', '-', 'sexualin', 'keeping', 'with', 'the', 'mores', 'of', 'the', 'time', ')', 'from', '50', 'years', 'ago', ',', 'I', 'couldrelate', 'to', 'Margaret', \"'s\", 'and', 'her', 'husband', \"'s\", 'dilemma', '.', 'I', ',', 'too', ',', 'was', 'cast', 'aside', 'because', 'I', 'was', \"n't\", 'good', 'enough', 'for', 'his', 'family', ',', 'and', 'upon', 'his', 'rediscovery', 'of', 'me', 'via', 'the', 'internet', ',', 'I', 'was', 'burdened', 'with', 'helping', 'him', 'deal', 'with', 'his', 'still', 'very', 'horrifying', 'Vietnam', 'experiences', 'and', 'a', 'marriage', 'to', 'a', 'woman', 'above', 'his', 'class', 'whom', 'he', 'did', \"n't\", 'believe', 'he', 'loved', '.', 'My', 'husband', ',', 'like', 'Margaret', \"'s\", 'was', 'very', 'understanding', ',', 'but', 'the', 'strain', 'was', 'very', 'real', '.', 'The', 'lover', 'was', 'finally', 'able', 'to', 'reconcile', 'his', 'real', '-', 'life', 'situation', 'with', 'his', 'fantasy', 'of', 'loving', 'only', 'me.<br', '/><br', '/>I', 'thought', 'that', 'it', 'was', 'a', 'good', 'decision', 'to', 'show', 'very', 'little', 'of', 'the', 'reliving', 'of', 'the', 'war', 'experience', 'that', 'was', 'happening', 'in', 'Chris', \"'s\", 'mind', '.', 'I', 'thought', 'of', '\"', 'Mrs.', 'Dalloway', '\"', 'with', 'the', 'WWI', 'soldier', 'who', 'acts', 'out', 'very', 'violent', 'memories', 'and', 'commits', 'suicide', 'versus', 'Chris', \"'s\", 'joy', 'in', 'his', 'fantasy', 'of', 'Margaret', '.', 'In', 'contrast', ',', 'the', 'actiona', 'of', 'the', 'soldier', 'in', '\"', 'Mrs.', 'Dalloway', '\"', 'seems', 'overwrought.<br', '/><br', '/>Showing', 'that', 'the', 'psychiatrist', 'understood', 'very', 'little', 'of', 'what', 'was', 'happening', 'to', 'Chris', 'underlines', 'what', 'a', 'major', 'problem', 'the', 'whole', 'group', 'faced', '.', 'Everyone', 'seems', 'to', 'get', 'their', 'life', 'back', ',', 'but', 'was', 'it', 'the', 'right', 'choice', '?'], 'label': 'pos'}\n"
          ],
          "name": "stdout"
        }
      ]
    },
    {
      "cell_type": "markdown",
      "metadata": {
        "id": "sSrLHH-Gvu_G",
        "colab_type": "text"
      },
      "source": [
        "PETER: How do I read train_texts & train_labels from train_data?"
      ]
    },
    {
      "cell_type": "markdown",
      "metadata": {
        "colab_type": "text",
        "id": "jz1ESSlgYMuR"
      },
      "source": [
        "### Simple logistic"
      ]
    },
    {
      "cell_type": "code",
      "metadata": {
        "colab_type": "code",
        "id": "2Uq7BfszYMuS",
        "colab": {}
      },
      "source": [
        "from sklearn.feature_extraction.text import CountVectorizer\n",
        "from sklearn.linear_model import LogisticRegression\n",
        "from sklearn.pipeline import make_pipeline\n",
        "from sklearn.metrics import classification_report\n",
        "\n"
      ],
      "execution_count": 0,
      "outputs": []
    },
    {
      "cell_type": "code",
      "metadata": {
        "id": "euWfiCo1vowX",
        "colab_type": "code",
        "colab": {}
      },
      "source": [
        "baseline_model = make_pipeline(CountVectorizer(ngram_range=(1,3)), LogisticRegression()).fit(train_texts, train_labels)"
      ],
      "execution_count": 0,
      "outputs": []
    },
    {
      "cell_type": "code",
      "metadata": {
        "id": "lYteHnTtvpYh",
        "colab_type": "code",
        "colab": {}
      },
      "source": [
        "baseline_predicted = baseline_model.predict(test_texts)"
      ],
      "execution_count": 0,
      "outputs": []
    },
    {
      "cell_type": "code",
      "metadata": {
        "id": "HoysQKULvrtb",
        "colab_type": "code",
        "colab": {}
      },
      "source": [
        "baseline_predicted = baseline_model.predict(test_texts)"
      ],
      "execution_count": 0,
      "outputs": []
    }
  ]
}